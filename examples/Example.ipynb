{
 "cells": [
  {
   "cell_type": "code",
   "execution_count": 1,
   "id": "f5284257-1463-4b39-9da3-46931958ae31",
   "metadata": {
    "tags": []
   },
   "outputs": [
    {
     "name": "stdout",
     "output_type": "stream",
     "text": [
      "The history saving thread hit an unexpected error (DatabaseError('database disk image is malformed',)).History will not be written to the database.\n"
     ]
    }
   ],
   "source": [
    "import os\n",
    "import pandas as pd\n",
    "import numpy as np\n",
    "import spacy\n",
    "import pprint\n",
    "import xlrd\n",
    "import re\n",
    "from presidio_analyzer import AnalyzerEngine, RecognizerRegistry, PatternRecognizer\n",
    "from presidio_analyzer.nlp_engine import NlpEngineProvider\n",
    "from presidio_analyzer.pattern import Pattern\n",
    "from presidio_anonymizer import AnonymizerEngine\n",
    "from presidio_anonymizer.entities.engine import OperatorConfig\n",
    "from presidio_analyzer.recognizer_result import RecognizerResult"
   ]
  },
  {
   "cell_type": "markdown",
   "id": "60f051a4-024d-41a9-965f-196a3e31acc5",
   "metadata": {},
   "source": [
    "# Preprocess Functions"
   ]
  },
  {
   "cell_type": "code",
   "execution_count": 2,
   "id": "695dadcb-2e61-4a50-8303-3c85275f4e48",
   "metadata": {},
   "outputs": [],
   "source": [
    "# Functions to preprocess text before anonymizing\n",
    "def replace_accent(s): # apply this in analyzer\n",
    "    res = s\n",
    "    replace_dict={\n",
    "        \"á\":\"a\",\n",
    "        \"à\":\"a\",\n",
    "        \"é\":\"e\",\n",
    "        \"è\":\"e\",\n",
    "        \"í\":\"i\",\n",
    "        \"ì\":\"i\",\n",
    "        \"ó\":\"o\",\n",
    "        \"ò\":\"o\",\n",
    "        \"ú\":\"u\",\n",
    "        \"ù\":\"u\",\n",
    "        \"Á\":\"A\",\n",
    "        \"À\":\"A\",\n",
    "        \"É\":\"E\",\n",
    "        \"È\":\"E\",\n",
    "        \"Í\":\"I\",\n",
    "        \"Ì\":\"I\",\n",
    "        \"Ó\":\"O\",\n",
    "        \"Ò\":\"O\",\n",
    "        \"Ú\":\"U\",\n",
    "        \"Ù\":\"U\",\n",
    "    }\n",
    "    for i,j in replace_dict.items():\n",
    "        res = res.replace(i,j)\n",
    "    return res"
   ]
  },
  {
   "cell_type": "markdown",
   "id": "70528b43-493c-4b4b-bab7-c4abd79df9e0",
   "metadata": {},
   "source": [
    "## Test"
   ]
  },
  {
   "cell_type": "code",
   "execution_count": 3,
   "id": "e326c7a1-1182-40c5-847b-a1554c0c31c1",
   "metadata": {},
   "outputs": [],
   "source": [
    "from anonymize import Anonymizer"
   ]
  },
  {
   "cell_type": "code",
   "execution_count": 4,
   "id": "82c3ba88-cfa3-4d58-8c73-6da4d7272274",
   "metadata": {
    "scrolled": true,
    "tags": []
   },
   "outputs": [],
   "source": [
    "anonymizer=Anonymizer(model_name=\"es_core_news_md\", default_entities=[\"IP_ADDRESS\"])"
   ]
  },
  {
   "cell_type": "markdown",
   "id": "e81c55bd-f18b-424a-baa8-82d82489431d",
   "metadata": {},
   "source": [
    "### Phone"
   ]
  },
  {
   "cell_type": "code",
   "execution_count": 5,
   "id": "48dafb5b-ae33-4b04-a623-93a04805a4dc",
   "metadata": {},
   "outputs": [],
   "source": [
    "anonymizer.add_recognizer_regex(r\"(?<= )(\" + \"[9876](\\d[\\s-]*){7}\\d\" + r\")(?=[^a-zA-Z0-9]+|$)\", \"MY_PHONE\")"
   ]
  },
  {
   "cell_type": "code",
   "execution_count": 6,
   "id": "3f949be5-e725-4460-8b23-ac7761e92944",
   "metadata": {},
   "outputs": [
    {
     "data": {
      "text/plain": [
       "('Mi tlf es MY_PHONE', True)"
      ]
     },
     "execution_count": 6,
     "metadata": {},
     "output_type": "execute_result"
    }
   ],
   "source": [
    "anonymizer.anonymize_text(\"Mi tlf es 987654321\")"
   ]
  },
  {
   "cell_type": "code",
   "execution_count": 7,
   "id": "87f88edb-579c-4fbc-b245-d7eaa618a4d9",
   "metadata": {},
   "outputs": [
    {
     "data": {
      "text/html": [
       "<div>\n",
       "<style scoped>\n",
       "    .dataframe tbody tr th:only-of-type {\n",
       "        vertical-align: middle;\n",
       "    }\n",
       "\n",
       "    .dataframe tbody tr th {\n",
       "        vertical-align: top;\n",
       "    }\n",
       "\n",
       "    .dataframe thead th {\n",
       "        text-align: right;\n",
       "    }\n",
       "</style>\n",
       "<table border=\"1\" class=\"dataframe\">\n",
       "  <thead>\n",
       "    <tr style=\"text-align: right;\">\n",
       "      <th></th>\n",
       "      <th>text</th>\n",
       "      <th>has_PII</th>\n",
       "    </tr>\n",
       "  </thead>\n",
       "  <tbody>\n",
       "    <tr>\n",
       "      <th>0</th>\n",
       "      <td>Mi telefono es MY_PHONE y mi IP IP_ADDRESS</td>\n",
       "      <td>True</td>\n",
       "    </tr>\n",
       "  </tbody>\n",
       "</table>\n",
       "</div>"
      ],
      "text/plain": [
       "                                         text  has_PII\n",
       "0  Mi telefono es MY_PHONE y mi IP IP_ADDRESS     True"
      ]
     },
     "execution_count": 7,
     "metadata": {},
     "output_type": "execute_result"
    }
   ],
   "source": [
    "import pandas as pd\n",
    "text=\"Mi telefono es 963456678 y mi IP 140.184.234.132\"\n",
    "df=pd.DataFrame(data=[text], columns=[\"text\"])\n",
    "df = anonymizer.anonymize_dataset(df)\n",
    "df"
   ]
  },
  {
   "cell_type": "markdown",
   "id": "9fd42718-8bff-4eff-aec9-a1f460bc8497",
   "metadata": {},
   "source": [
    "### Surnames List"
   ]
  },
  {
   "cell_type": "code",
   "execution_count": 8,
   "id": "192ba517-a81a-4055-b70f-dce7d2b4764e",
   "metadata": {},
   "outputs": [],
   "source": [
    "#Unfortunate surnames\n",
    "unfortunate_surnames=[\"CALLE\", \"PUERTA\", \"CALLEJON\", \"CALZADA\", \"DE LA CALLE\", \"ABRIL\", \"ALCALDE\", \"ALEGRE\",\n",
    "                        \"ALEGRIA\", \"BAJO\", \"BARRIO\", \"BAÑOS\", \"BUENO\", \"CALLE\", \"CALLEJON\", \"CALZADA\", \"CARO\", \"CASAS\",\n",
    "                        \"CIUDAD\", \"DIAS\", \"GRACIA\", \"GRANDE\", \"IGUAL\", \"JUSTICIA\", \"LLAMAS\", \"MAS\", \"MAYO\", \"MERCADO\", \n",
    "                        \"MIRA\", \"SOLA\", \"ESCALERA\", \"CORTES\"] # parameter"
   ]
  },
  {
   "cell_type": "code",
   "execution_count": 9,
   "id": "c2bcc08a-d2fd-4172-8081-74ca3d4d6949",
   "metadata": {},
   "outputs": [],
   "source": [
    "# Surname recognizer with deny_list\n",
    "anonymizer.add_recognizer_deny_list(unfortunate_surnames, \"SURNAMES\")"
   ]
  },
  {
   "cell_type": "code",
   "execution_count": 10,
   "id": "793208e6-5ce9-4ae5-b9c7-07ac3274aa3e",
   "metadata": {},
   "outputs": [
    {
     "data": {
      "text/plain": [
       "('Mi tlf es MY_PHONE y mi apellido SURNAMES', True)"
      ]
     },
     "execution_count": 10,
     "metadata": {},
     "output_type": "execute_result"
    }
   ],
   "source": [
    "anonymizer.anonymize_text(\"Mi tlf es 987654321 y mi apellido ALEGRÍA\", preprocess=replace_accent)"
   ]
  },
  {
   "cell_type": "code",
   "execution_count": 11,
   "id": "bfbd89f5-d046-4e25-a207-fbbb5152b21e",
   "metadata": {},
   "outputs": [
    {
     "data": {
      "text/html": [
       "<div>\n",
       "<style scoped>\n",
       "    .dataframe tbody tr th:only-of-type {\n",
       "        vertical-align: middle;\n",
       "    }\n",
       "\n",
       "    .dataframe tbody tr th {\n",
       "        vertical-align: top;\n",
       "    }\n",
       "\n",
       "    .dataframe thead th {\n",
       "        text-align: right;\n",
       "    }\n",
       "</style>\n",
       "<table border=\"1\" class=\"dataframe\">\n",
       "  <thead>\n",
       "    <tr style=\"text-align: right;\">\n",
       "      <th></th>\n",
       "      <th>text</th>\n",
       "      <th>has_PII</th>\n",
       "    </tr>\n",
       "  </thead>\n",
       "  <tbody>\n",
       "    <tr>\n",
       "      <th>0</th>\n",
       "      <td>Mi tlf es MY_PHONE y mi apellido SURNAMES</td>\n",
       "      <td>True</td>\n",
       "    </tr>\n",
       "  </tbody>\n",
       "</table>\n",
       "</div>"
      ],
      "text/plain": [
       "                                        text  has_PII\n",
       "0  Mi tlf es MY_PHONE y mi apellido SURNAMES     True"
      ]
     },
     "execution_count": 11,
     "metadata": {},
     "output_type": "execute_result"
    }
   ],
   "source": [
    "text=\"Mi tlf es 987654321 y mi apellido ALEGRÍA\"\n",
    "df=pd.DataFrame(data=[text], columns=[\"text\"])\n",
    "df = anonymizer.anonymize_dataset(df, preprocess=replace_accent)\n",
    "df"
   ]
  },
  {
   "cell_type": "markdown",
   "id": "967fcfce-b4fb-4b82-9bf7-e20cb2773347",
   "metadata": {},
   "source": [
    "### Improving surnames with spacy"
   ]
  },
  {
   "cell_type": "code",
   "execution_count": 12,
   "id": "5fec5f83-590c-450e-b6db-0a4a1452dbf7",
   "metadata": {},
   "outputs": [],
   "source": [
    "def contained(start, end, interval_list): # interval [start,end] is contained in any of the intervals in the interval_list\n",
    "    return any([start>=i[1] and end<=i[2] for i in interval_list])"
   ]
  },
  {
   "cell_type": "code",
   "execution_count": 13,
   "id": "e2d3deef-f30d-4333-9e44-214d99d2152f",
   "metadata": {},
   "outputs": [],
   "source": [
    "texto=\"Y pues eso, que se cayo de la cama mi hijo Pepe CASAS. Olesa de Montserrat-Viladecavalls dice lo contrario\""
   ]
  },
  {
   "cell_type": "code",
   "execution_count": 14,
   "id": "039b9b1c-938b-4342-b715-7e75fabb5815",
   "metadata": {},
   "outputs": [],
   "source": [
    "import spacy\n",
    "\n",
    "nlp = spacy.load(\"es_core_news_md\")\n",
    "doc = nlp(texto)\n",
    "\n",
    "# document level\n",
    "spacy_ents = [(e.text, e.start_char, e.end_char, e.label_) for e in doc.ents if e.label_==\"PER\"]"
   ]
  },
  {
   "cell_type": "code",
   "execution_count": 15,
   "id": "e990e79a-9b4b-472b-b16e-815d1f4d559f",
   "metadata": {},
   "outputs": [
    {
     "data": {
      "text/plain": [
       "[('Pepe CASAS', 43, 53, 'PER'),\n",
       " ('Olesa de Montserrat-Viladecavalls', 55, 88, 'PER')]"
      ]
     },
     "execution_count": 15,
     "metadata": {},
     "output_type": "execute_result"
    }
   ],
   "source": [
    "spacy_ents"
   ]
  },
  {
   "cell_type": "code",
   "execution_count": 16,
   "id": "21f2526d-543b-4631-90a7-ab8d2bdfa69d",
   "metadata": {},
   "outputs": [
    {
     "data": {
      "text/plain": [
       "[type: SURNAMES, start: 48, end: 53, score: 1]"
      ]
     },
     "execution_count": 16,
     "metadata": {},
     "output_type": "execute_result"
    }
   ],
   "source": [
    "analyzer_res = anonymizer.analyzer.analyze(texto, language=anonymizer.language, entities=[\"SURNAMES\"])\n",
    "analyzer_res"
   ]
  },
  {
   "cell_type": "code",
   "execution_count": 17,
   "id": "6a75328e-7fd7-40e7-97ac-bd5689f145f3",
   "metadata": {},
   "outputs": [],
   "source": [
    "# if my surname entity is recognized by spacy as a person, then we use it to anonymize\n",
    "surnames_spacy=[RecognizerResult(entity_type=\"SURNAMES\",start=res.start, end=res.end, score=1) for res in analyzer_res if contained(res.start, res.end, spacy_ents)]"
   ]
  },
  {
   "cell_type": "code",
   "execution_count": 18,
   "id": "d4852a73-e131-4449-a45f-fb5fadf38806",
   "metadata": {},
   "outputs": [
    {
     "data": {
      "text/plain": [
       "'Y pues eso, que se cayo de la cama mi hijo Pepe SURNAMES. Olesa de Montserrat-Viladecavalls dice lo contrario'"
      ]
     },
     "execution_count": 18,
     "metadata": {},
     "output_type": "execute_result"
    }
   ],
   "source": [
    "anonymizer.anonymizer.anonymize(text=texto,\n",
    "                                analyzer_results=surnames_spacy,\n",
    "                                operators=anonymizer.anonymizers_config).text"
   ]
  }
 ],
 "metadata": {
  "kernelspec": {
   "display_name": "Python 3",
   "language": "python",
   "name": "python3"
  },
  "language_info": {
   "codemirror_mode": {
    "name": "ipython",
    "version": 3
   },
   "file_extension": ".py",
   "mimetype": "text/x-python",
   "name": "python",
   "nbconvert_exporter": "python",
   "pygments_lexer": "ipython3",
   "version": "3.6.13"
  }
 },
 "nbformat": 4,
 "nbformat_minor": 5
}
