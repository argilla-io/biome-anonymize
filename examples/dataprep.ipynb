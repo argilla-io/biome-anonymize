{
 "cells": [
  {
   "cell_type": "code",
   "execution_count": 11,
   "metadata": {},
   "outputs": [],
   "source": [
    "import os\n",
    "import pandas as pd\n",
    "import numpy as np\n",
    "import spacy\n",
    "import pprint\n",
    "import xlrd\n",
    "import re\n",
    "import unidecode\n",
    "import unicodedata\n",
    "from presidio_analyzer import AnalyzerEngine, RecognizerRegistry, PatternRecognizer\n",
    "from presidio_analyzer.nlp_engine import NlpEngineProvider\n",
    "from presidio_analyzer.pattern import Pattern\n",
    "from presidio_anonymizer import AnonymizerEngine\n",
    "from presidio_anonymizer.entities import RecognizerResult, AnonymizerConfig"
   ]
  },
  {
   "cell_type": "markdown",
   "metadata": {},
   "source": [
    "## Preprocess Functions"
   ]
  },
  {
   "cell_type": "code",
   "execution_count": 2,
   "metadata": {},
   "outputs": [],
   "source": [
    "# Functions to preprocess text before anonymizing\n",
    "def replace_accent(s): # apply this in analyzer\n",
    "    res = s\n",
    "    replace_dict={\n",
    "        \"á\":\"a\",\n",
    "        \"à\":\"a\",\n",
    "        \"é\":\"e\",\n",
    "        \"è\":\"e\",\n",
    "        \"í\":\"i\",\n",
    "        \"ì\":\"i\",\n",
    "        \"ó\":\"o\",\n",
    "        \"ò\":\"o\",\n",
    "        \"ú\":\"u\",\n",
    "        \"ù\":\"u\",\n",
    "        \"Á\":\"A\",\n",
    "        \"À\":\"A\",\n",
    "        \"É\":\"E\",\n",
    "        \"È\":\"E\",\n",
    "        \"Í\":\"I\",\n",
    "        \"Ì\":\"I\",\n",
    "        \"Ó\":\"O\",\n",
    "        \"Ò\":\"O\",\n",
    "        \"Ú\":\"U\",\n",
    "        \"Ù\":\"U\",\n",
    "    }\n",
    "    for i,j in replace_dict.items():\n",
    "        res = res.replace(i,j)\n",
    "    return res"
   ]
  },
  {
   "cell_type": "markdown",
   "metadata": {},
   "source": [
    "## Custom Recognizers"
   ]
  },
  {
   "cell_type": "markdown",
   "metadata": {},
   "source": [
    "# TEST"
   ]
  },
  {
   "cell_type": "code",
   "execution_count": 3,
   "metadata": {},
   "outputs": [],
   "source": [
    "from anonymizer import Anonymizer"
   ]
  },
  {
   "cell_type": "code",
   "execution_count": 4,
   "metadata": {},
   "outputs": [],
   "source": [
    "anonymizer=Anonymizer()"
   ]
  },
  {
   "cell_type": "markdown",
   "metadata": {},
   "source": [
    "### Phone"
   ]
  },
  {
   "cell_type": "code",
   "execution_count": 5,
   "metadata": {},
   "outputs": [
    {
     "data": {
      "text/plain": [
       "'Mi telefono es MY_PHONE y mi email javispp2.0@gmail.com.'"
      ]
     },
     "execution_count": 5,
     "metadata": {},
     "output_type": "execute_result"
    }
   ],
   "source": [
    "# Phone recognizer using regex as input\n",
    "phone_recognizer=anonymizer.recognizer_regex(\"\\d{9}|(\\d{3}[ ]){2}(\\d{1})|\\d{3}[ ](\\d{2}[ ]){2}(\\d{2})\", \"MY_PHONE\", \"es\")\n",
    "anonymizer.anonymize_text(\"Mi telefono es 963456678 y mi email javispp2.0@gmail.com.\",\n",
    "                          recognizers=[phone_recognizer], entities=[\"MY_PHONE\"])"
   ]
  },
  {
   "cell_type": "code",
   "execution_count": 6,
   "metadata": {},
   "outputs": [
    {
     "data": {
      "text/html": [
       "<div>\n",
       "<style scoped>\n",
       "    .dataframe tbody tr th:only-of-type {\n",
       "        vertical-align: middle;\n",
       "    }\n",
       "\n",
       "    .dataframe tbody tr th {\n",
       "        vertical-align: top;\n",
       "    }\n",
       "\n",
       "    .dataframe thead th {\n",
       "        text-align: right;\n",
       "    }\n",
       "</style>\n",
       "<table border=\"1\" class=\"dataframe\">\n",
       "  <thead>\n",
       "    <tr style=\"text-align: right;\">\n",
       "      <th></th>\n",
       "      <th>text</th>\n",
       "      <th>has_PII</th>\n",
       "    </tr>\n",
       "  </thead>\n",
       "  <tbody>\n",
       "    <tr>\n",
       "      <th>0</th>\n",
       "      <td>Mi telefono es MY_PHONE y mi email javispp2.0@...</td>\n",
       "      <td>True</td>\n",
       "    </tr>\n",
       "  </tbody>\n",
       "</table>\n",
       "</div>"
      ],
      "text/plain": [
       "                                                text  has_PII\n",
       "0  Mi telefono es MY_PHONE y mi email javispp2.0@...     True"
      ]
     },
     "execution_count": 6,
     "metadata": {},
     "output_type": "execute_result"
    }
   ],
   "source": [
    "import pandas as pd\n",
    "text=\"Mi telefono es 963456678 y mi email javispp2.0@gmail.com.\"\n",
    "df=pd.DataFrame(data=[text], columns=[\"text\"])\n",
    "df = anonymizer.anonymize_dataset(df, recognizers=[phone_recognizer], entities=[\"MY_PHONE\"])\n",
    "df"
   ]
  },
  {
   "cell_type": "markdown",
   "metadata": {},
   "source": [
    "### Surnames"
   ]
  },
  {
   "cell_type": "code",
   "execution_count": 7,
   "metadata": {},
   "outputs": [],
   "source": [
    "# Create surname deny_list\n",
    "surname_ds = pd.read_excel('../data/apellidos_frecuencia.xls',sheet_name=0) \n",
    "surname_ds = surname_ds[4:]  # skipp caption rows\n",
    "surname_ds = surname_ds[surname_ds[\"Unnamed: 2\"].astype(\"int\")>=2000] # parameter\n",
    "\n",
    "#Create my own surname blacklist\n",
    "surname_blacklist = surname_ds[\"Unnamed: 1\"].to_list()\n",
    "\n",
    "# List of surnames(or other words) we dont want to consider as surnames\n",
    "not_meaningful_surnames = [name for name in surname_blacklist if len(name) < 4] # parameter\n",
    "\n",
    "#Unfortunate surnames\n",
    "unfortunate_surnames=[\"CALLE\", \"PUERTA\", \"CALLEJON\", \"CALZADA\", \"DE LA CALLE\", \"ABRIL\", \"ALCALDE\", \"ALEGRE\",\n",
    "                        \"ALEGRIA\", \"BAJO\", \"BARRIO\", \"BAÑOS\", \"BUENO\", \"CALLE\", \"CALLEJON\", \"CALZADA\", \"CARO\", \"CASAS\",\n",
    "                        \"CIUDAD\", \"DIAS\", \"GRACIA\", \"GRANDE\", \"IGUAL\", \"JUSTICIA\", \"LLAMAS\", \"MAS\", \"MAYO\", \"MERCADO\", \n",
    "                        \"MIRA\", \"SOLA\", \"ESCALERA\", \"CORTES\"] # parameter\n",
    "\n",
    "surname_blacklist = list(set(surname_blacklist) - set(not_meaningful_surnames) - set(unfortunate_surnames))\n",
    "surname_blacklist += list(map(lambda x: x[0]+x[1:].lower(), surname_blacklist)) #1st char is not lowercase"
   ]
  },
  {
   "cell_type": "code",
   "execution_count": 8,
   "metadata": {},
   "outputs": [
    {
     "data": {
      "text/plain": [
       "'Mi nombre es Javier SURNAMES SURNAMES'"
      ]
     },
     "execution_count": 8,
     "metadata": {},
     "output_type": "execute_result"
    }
   ],
   "source": [
    "# Surname recognizer with deny_list\n",
    "surname_recognizer=anonymizer.recognizer_deny_list(surname_blacklist, \"SURNAMES\", \"es\")\n",
    "anonymizer.anonymize_text(\"Mi nombre es Javier López Sanz\",\n",
    "                          recognizers=[surname_recognizer], entities=[\"SURNAMES\"], preprocess=replace_accent)"
   ]
  },
  {
   "cell_type": "markdown",
   "metadata": {},
   "source": [
    "## Using datasets"
   ]
  },
  {
   "cell_type": "code",
   "execution_count": 12,
   "metadata": {},
   "outputs": [
    {
     "data": {
      "text/html": [
       "<div>\n",
       "<style scoped>\n",
       "    .dataframe tbody tr th:only-of-type {\n",
       "        vertical-align: middle;\n",
       "    }\n",
       "\n",
       "    .dataframe tbody tr th {\n",
       "        vertical-align: top;\n",
       "    }\n",
       "\n",
       "    .dataframe thead th {\n",
       "        text-align: right;\n",
       "    }\n",
       "</style>\n",
       "<table border=\"1\" class=\"dataframe\">\n",
       "  <thead>\n",
       "    <tr style=\"text-align: right;\">\n",
       "      <th></th>\n",
       "      <th>text</th>\n",
       "      <th>has_PII</th>\n",
       "    </tr>\n",
       "  </thead>\n",
       "  <tbody>\n",
       "    <tr>\n",
       "      <th>0</th>\n",
       "      <td>Javier SURNAMES SURNAMES con tlf: MY_PHONE</td>\n",
       "      <td>True</td>\n",
       "    </tr>\n",
       "  </tbody>\n",
       "</table>\n",
       "</div>"
      ],
      "text/plain": [
       "                                         text  has_PII\n",
       "0  Javier SURNAMES SURNAMES con tlf: MY_PHONE     True"
      ]
     },
     "execution_count": 12,
     "metadata": {},
     "output_type": "execute_result"
    }
   ],
   "source": [
    "df = pd.DataFrame(data=[\"Javier López Sanz con tlf: 987654321\"], columns=[\"text\"])\n",
    "anonymizer.anonymize_dataset(df, recognizers=[phone_recognizer, surname_recognizer], entities=[\"SURNAMES\", \"MY_PHONE\"], \n",
    "                             preprocess=replace_accent)"
   ]
  },
  {
   "cell_type": "code",
   "execution_count": null,
   "metadata": {},
   "outputs": [],
   "source": []
  }
 ],
 "metadata": {
  "kernelspec": {
   "display_name": "Python 3",
   "language": "python",
   "name": "python3"
  },
  "language_info": {
   "codemirror_mode": {
    "name": "ipython",
    "version": 3
   },
   "file_extension": ".py",
   "mimetype": "text/x-python",
   "name": "python",
   "nbconvert_exporter": "python",
   "pygments_lexer": "ipython3",
   "version": "3.7.6"
  }
 },
 "nbformat": 4,
 "nbformat_minor": 5
}
