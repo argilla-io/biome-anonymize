{
 "cells": [
  {
   "cell_type": "code",
   "execution_count": 6,
   "id": "therapeutic-sterling",
   "metadata": {},
   "outputs": [],
   "source": [
    "import os\n",
    "import pandas as pd\n",
    "import numpy as np\n",
    "import spacy\n",
    "import pprint\n",
    "import xlrd\n",
    "import re\n",
    "import unidecode\n",
    "import unicodedata\n",
    "from presidio_analyzer import AnalyzerEngine, RecognizerRegistry, PatternRecognizer\n",
    "from presidio_analyzer.nlp_engine import NlpEngineProvider\n",
    "from presidio_analyzer.pattern import Pattern\n",
    "from presidio_anonymizer import AnonymizerEngine\n",
    "from presidio_anonymizer.entities import RecognizerResult, AnonymizerConfig"
   ]
  },
  {
   "cell_type": "markdown",
   "id": "pregnant-niger",
   "metadata": {},
   "source": [
    "## Preprocess Functions"
   ]
  },
  {
   "cell_type": "code",
   "execution_count": 7,
   "id": "entire-anthony",
   "metadata": {},
   "outputs": [],
   "source": [
    "# Functions to preprocess text before anonymizing\n",
    "def replace_accent(s): # apply this in analyzer\n",
    "    res = s\n",
    "    replace_dict={\n",
    "        \"á\":\"a\",\n",
    "        \"à\":\"a\",\n",
    "        \"é\":\"e\",\n",
    "        \"è\":\"e\",\n",
    "        \"í\":\"i\",\n",
    "        \"ì\":\"i\",\n",
    "        \"ó\":\"o\",\n",
    "        \"ò\":\"o\",\n",
    "        \"ú\":\"u\",\n",
    "        \"ù\":\"u\",\n",
    "        \"Á\":\"A\",\n",
    "        \"À\":\"A\",\n",
    "        \"É\":\"E\",\n",
    "        \"È\":\"E\",\n",
    "        \"Í\":\"I\",\n",
    "        \"Ì\":\"I\",\n",
    "        \"Ó\":\"O\",\n",
    "        \"Ò\":\"O\",\n",
    "        \"Ú\":\"U\",\n",
    "        \"Ù\":\"U\",\n",
    "    }\n",
    "    for i,j in replace_dict.items():\n",
    "        res = res.replace(i,j)\n",
    "    return res"
   ]
  },
  {
   "cell_type": "markdown",
   "id": "immune-military",
   "metadata": {},
   "source": [
    "## Custom Recognizers"
   ]
  },
  {
   "cell_type": "markdown",
   "id": "russian-looking",
   "metadata": {},
   "source": [
    "# TEST"
   ]
  },
  {
   "cell_type": "code",
   "execution_count": 8,
   "id": "similar-skiing",
   "metadata": {},
   "outputs": [],
   "source": [
    "from anonymize import Anonymizer"
   ]
  },
  {
   "cell_type": "code",
   "execution_count": 9,
   "id": "handed-examination",
   "metadata": {},
   "outputs": [],
   "source": [
    "anonymizer=Anonymizer(default_entities=[])"
   ]
  },
  {
   "cell_type": "markdown",
   "id": "valued-indonesia",
   "metadata": {},
   "source": [
    "### Phone"
   ]
  },
  {
   "cell_type": "code",
   "execution_count": 11,
   "id": "organic-packing",
   "metadata": {},
   "outputs": [],
   "source": [
    "anonymizer.add_recognizer_regex(\"\\d{9}|(\\d{3}[ ]){2}(\\d{1})|\\d{3}[ ](\\d{2}[ ]){2}(\\d{2})\", \"MY_PHONE\")"
   ]
  },
  {
   "cell_type": "code",
   "execution_count": 12,
   "id": "atomic-server",
   "metadata": {},
   "outputs": [
    {
     "data": {
      "text/plain": [
       "('Mi tlf es <MY_PHONE>', True)"
      ]
     },
     "execution_count": 12,
     "metadata": {},
     "output_type": "execute_result"
    }
   ],
   "source": [
    "anonymizer.anonymize_text(\"Mi tlf es 987654321\")"
   ]
  },
  {
   "cell_type": "code",
   "execution_count": 13,
   "id": "flying-complex",
   "metadata": {},
   "outputs": [
    {
     "data": {
      "text/html": [
       "<div>\n",
       "<style scoped>\n",
       "    .dataframe tbody tr th:only-of-type {\n",
       "        vertical-align: middle;\n",
       "    }\n",
       "\n",
       "    .dataframe tbody tr th {\n",
       "        vertical-align: top;\n",
       "    }\n",
       "\n",
       "    .dataframe thead th {\n",
       "        text-align: right;\n",
       "    }\n",
       "</style>\n",
       "<table border=\"1\" class=\"dataframe\">\n",
       "  <thead>\n",
       "    <tr style=\"text-align: right;\">\n",
       "      <th></th>\n",
       "      <th>text</th>\n",
       "      <th>has_PII</th>\n",
       "    </tr>\n",
       "  </thead>\n",
       "  <tbody>\n",
       "    <tr>\n",
       "      <th>0</th>\n",
       "      <td>Mi telefono es &lt;MY_PHONE&gt; y mi email javispp2....</td>\n",
       "      <td>True</td>\n",
       "    </tr>\n",
       "  </tbody>\n",
       "</table>\n",
       "</div>"
      ],
      "text/plain": [
       "                                                text  has_PII\n",
       "0  Mi telefono es <MY_PHONE> y mi email javispp2....     True"
      ]
     },
     "execution_count": 13,
     "metadata": {},
     "output_type": "execute_result"
    }
   ],
   "source": [
    "import pandas as pd\n",
    "text=\"Mi telefono es 963456678 y mi email javispp2.0@gmail.com.\"\n",
    "df=pd.DataFrame(data=[text], columns=[\"text\"])\n",
    "df = anonymizer.anonymize_dataset(df)\n",
    "df"
   ]
  },
  {
   "cell_type": "markdown",
   "id": "meaningful-championship",
   "metadata": {},
   "source": [
    "### Surnames List"
   ]
  },
  {
   "cell_type": "code",
   "execution_count": 14,
   "id": "annual-dollar",
   "metadata": {},
   "outputs": [],
   "source": [
    "#Unfortunate surnames\n",
    "unfortunate_surnames=[\"CALLE\", \"PUERTA\", \"CALLEJON\", \"CALZADA\", \"DE LA CALLE\", \"ABRIL\", \"ALCALDE\", \"ALEGRE\",\n",
    "                        \"ALEGRIA\", \"BAJO\", \"BARRIO\", \"BAÑOS\", \"BUENO\", \"CALLE\", \"CALLEJON\", \"CALZADA\", \"CARO\", \"CASAS\",\n",
    "                        \"CIUDAD\", \"DIAS\", \"GRACIA\", \"GRANDE\", \"IGUAL\", \"JUSTICIA\", \"LLAMAS\", \"MAS\", \"MAYO\", \"MERCADO\", \n",
    "                        \"MIRA\", \"SOLA\", \"ESCALERA\", \"CORTES\"] # parameter"
   ]
  },
  {
   "cell_type": "code",
   "execution_count": 15,
   "id": "special-victory",
   "metadata": {},
   "outputs": [],
   "source": [
    "# Surname recognizer with deny_list\n",
    "anonymizer.add_recognizer_deny_list(unfortunate_surnames, \"SURNAMES\")"
   ]
  },
  {
   "cell_type": "code",
   "execution_count": 16,
   "id": "micro-thursday",
   "metadata": {},
   "outputs": [
    {
     "data": {
      "text/plain": [
       "('Mi tlf es <MY_PHONE> y mi apellido <SURNAMES>', True)"
      ]
     },
     "execution_count": 16,
     "metadata": {},
     "output_type": "execute_result"
    }
   ],
   "source": [
    "anonymizer.anonymize_text(\"Mi tlf es 987654321 y mi apellido ALEGRÍA\", preprocess=replace_accent)"
   ]
  },
  {
   "cell_type": "code",
   "execution_count": 17,
   "id": "finnish-cruise",
   "metadata": {},
   "outputs": [
    {
     "data": {
      "text/html": [
       "<div>\n",
       "<style scoped>\n",
       "    .dataframe tbody tr th:only-of-type {\n",
       "        vertical-align: middle;\n",
       "    }\n",
       "\n",
       "    .dataframe tbody tr th {\n",
       "        vertical-align: top;\n",
       "    }\n",
       "\n",
       "    .dataframe thead th {\n",
       "        text-align: right;\n",
       "    }\n",
       "</style>\n",
       "<table border=\"1\" class=\"dataframe\">\n",
       "  <thead>\n",
       "    <tr style=\"text-align: right;\">\n",
       "      <th></th>\n",
       "      <th>text</th>\n",
       "      <th>has_PII</th>\n",
       "    </tr>\n",
       "  </thead>\n",
       "  <tbody>\n",
       "    <tr>\n",
       "      <th>0</th>\n",
       "      <td>Mi tlf es &lt;MY_PHONE&gt; y mi apellido &lt;SURNAMES&gt;</td>\n",
       "      <td>True</td>\n",
       "    </tr>\n",
       "  </tbody>\n",
       "</table>\n",
       "</div>"
      ],
      "text/plain": [
       "                                            text  has_PII\n",
       "0  Mi tlf es <MY_PHONE> y mi apellido <SURNAMES>     True"
      ]
     },
     "execution_count": 17,
     "metadata": {},
     "output_type": "execute_result"
    }
   ],
   "source": [
    "text=\"Mi tlf es 987654321 y mi apellido ALEGRÍA\"\n",
    "df=pd.DataFrame(data=[text], columns=[\"text\"])\n",
    "df = anonymizer.anonymize_dataset(df, preprocess=replace_accent)\n",
    "df"
   ]
  },
  {
   "cell_type": "code",
   "execution_count": null,
   "id": "established-gambling",
   "metadata": {},
   "outputs": [],
   "source": []
  }
 ],
 "metadata": {
  "kernelspec": {
   "display_name": "Python 3",
   "language": "python",
   "name": "python3"
  },
  "language_info": {
   "codemirror_mode": {
    "name": "ipython",
    "version": 3
   },
   "file_extension": ".py",
   "mimetype": "text/x-python",
   "name": "python",
   "nbconvert_exporter": "python",
   "pygments_lexer": "ipython3",
   "version": "3.7.10"
  }
 },
 "nbformat": 4,
 "nbformat_minor": 5
}
